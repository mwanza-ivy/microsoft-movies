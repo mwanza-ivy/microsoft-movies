{
 "cells": [
  {
   "cell_type": "markdown",
   "metadata": {},
   "source": [
    "## Exploratory Data Analysis on Film Industry: Genres, Popularity and Profitability"
   ]
  },
  {
   "cell_type": "markdown",
   "metadata": {},
   "source": [
    "By analyzing the following aspects of movie datasets, we can provide actionable insights to the head of Microsoft's new movie studio, guiding their decision-making process in terms of film genres, budget allocation and release timing. These insights can help them develop a strategic plan to create successful movies and compete effectively in the film industry."
   ]
  },
  {
   "cell_type": "markdown",
   "metadata": {},
   "source": [
    "\n",
    "![images (1)](https://github.com/mwanza00/microsoft_movies/assets/137791910/3aeb84a7-e7c9-4c4c-b668-470fdc639383)"
   ]
  },
  {
   "cell_type": "markdown",
   "metadata": {},
   "source": [
    "## Movies dataset 1"
   ]
  },
  {
   "cell_type": "markdown",
   "metadata": {},
   "source": [
    "# Does release date affect revenue?"
   ]
  },
  {
   "cell_type": "code",
   "execution_count": 1,
   "metadata": {},
   "outputs": [],
   "source": [
    "# Importing the relevant libraries\n",
    "import pandas as pd\n",
    "import matplotlib.pyplot as plt\n",
    "import seaborn as sns"
   ]
  },
  {
   "cell_type": "code",
   "execution_count": 2,
   "metadata": {},
   "outputs": [
    {
     "data": {
      "text/html": [
       "<div>\n",
       "<style scoped>\n",
       "    .dataframe tbody tr th:only-of-type {\n",
       "        vertical-align: middle;\n",
       "    }\n",
       "\n",
       "    .dataframe tbody tr th {\n",
       "        vertical-align: top;\n",
       "    }\n",
       "\n",
       "    .dataframe thead th {\n",
       "        text-align: right;\n",
       "    }\n",
       "</style>\n",
       "<table border=\"1\" class=\"dataframe\">\n",
       "  <thead>\n",
       "    <tr style=\"text-align: right;\">\n",
       "      <th></th>\n",
       "      <th>id</th>\n",
       "      <th>release_date</th>\n",
       "      <th>movie</th>\n",
       "      <th>production_budget</th>\n",
       "      <th>domestic_gross</th>\n",
       "      <th>worldwide_gross</th>\n",
       "    </tr>\n",
       "  </thead>\n",
       "  <tbody>\n",
       "    <tr>\n",
       "      <th>0</th>\n",
       "      <td>1</td>\n",
       "      <td>Dec 18, 2009</td>\n",
       "      <td>Avatar</td>\n",
       "      <td>$425,000,000</td>\n",
       "      <td>$760,507,625</td>\n",
       "      <td>$2,776,345,279</td>\n",
       "    </tr>\n",
       "    <tr>\n",
       "      <th>1</th>\n",
       "      <td>2</td>\n",
       "      <td>May 20, 2011</td>\n",
       "      <td>Pirates of the Caribbean: On Stranger Tides</td>\n",
       "      <td>$410,600,000</td>\n",
       "      <td>$241,063,875</td>\n",
       "      <td>$1,045,663,875</td>\n",
       "    </tr>\n",
       "    <tr>\n",
       "      <th>2</th>\n",
       "      <td>3</td>\n",
       "      <td>Jun 7, 2019</td>\n",
       "      <td>Dark Phoenix</td>\n",
       "      <td>$350,000,000</td>\n",
       "      <td>$42,762,350</td>\n",
       "      <td>$149,762,350</td>\n",
       "    </tr>\n",
       "    <tr>\n",
       "      <th>3</th>\n",
       "      <td>4</td>\n",
       "      <td>May 1, 2015</td>\n",
       "      <td>Avengers: Age of Ultron</td>\n",
       "      <td>$330,600,000</td>\n",
       "      <td>$459,005,868</td>\n",
       "      <td>$1,403,013,963</td>\n",
       "    </tr>\n",
       "    <tr>\n",
       "      <th>4</th>\n",
       "      <td>5</td>\n",
       "      <td>Dec 15, 2017</td>\n",
       "      <td>Star Wars Ep. VIII: The Last Jedi</td>\n",
       "      <td>$317,000,000</td>\n",
       "      <td>$620,181,382</td>\n",
       "      <td>$1,316,721,747</td>\n",
       "    </tr>\n",
       "  </tbody>\n",
       "</table>\n",
       "</div>"
      ],
      "text/plain": [
       "   id  release_date                                        movie  \\\n",
       "0   1  Dec 18, 2009                                       Avatar   \n",
       "1   2  May 20, 2011  Pirates of the Caribbean: On Stranger Tides   \n",
       "2   3   Jun 7, 2019                                 Dark Phoenix   \n",
       "3   4   May 1, 2015                      Avengers: Age of Ultron   \n",
       "4   5  Dec 15, 2017            Star Wars Ep. VIII: The Last Jedi   \n",
       "\n",
       "  production_budget domestic_gross worldwide_gross  \n",
       "0      $425,000,000   $760,507,625  $2,776,345,279  \n",
       "1      $410,600,000   $241,063,875  $1,045,663,875  \n",
       "2      $350,000,000    $42,762,350    $149,762,350  \n",
       "3      $330,600,000   $459,005,868  $1,403,013,963  \n",
       "4      $317,000,000   $620,181,382  $1,316,721,747  "
      ]
     },
     "execution_count": 2,
     "metadata": {},
     "output_type": "execute_result"
    }
   ],
   "source": [
    "# Reading the movie budget data into a DataFrame\n",
    "movie_budgets_df = pd.read_csv('zippedData/tn.movie_budgets.csv.gz')\n",
    "\n",
    "# Exploring the structure and content of the DataFrame:\n",
    "movie_budgets_df.head()"
   ]
  },
  {
   "cell_type": "code",
   "execution_count": 3,
   "metadata": {},
   "outputs": [
    {
     "data": {
      "text/plain": [
       "(5782, 6)"
      ]
     },
     "execution_count": 3,
     "metadata": {},
     "output_type": "execute_result"
    }
   ],
   "source": [
    "# Inspecting the shape\n",
    "movie_budgets_df.shape"
   ]
  },
  {
   "cell_type": "code",
   "execution_count": 4,
   "metadata": {},
   "outputs": [
    {
     "name": "stdout",
     "output_type": "stream",
     "text": [
      "<class 'pandas.core.frame.DataFrame'>\n",
      "RangeIndex: 5782 entries, 0 to 5781\n",
      "Data columns (total 6 columns):\n",
      " #   Column             Non-Null Count  Dtype \n",
      "---  ------             --------------  ----- \n",
      " 0   id                 5782 non-null   int64 \n",
      " 1   release_date       5782 non-null   object\n",
      " 2   movie              5782 non-null   object\n",
      " 3   production_budget  5782 non-null   object\n",
      " 4   domestic_gross     5782 non-null   object\n",
      " 5   worldwide_gross    5782 non-null   object\n",
      "dtypes: int64(1), object(5)\n",
      "memory usage: 271.2+ KB\n"
     ]
    }
   ],
   "source": [
    "# Looking at the info printout\n",
    "movie_budgets_df.info()"
   ]
  },
  {
   "cell_type": "code",
   "execution_count": 5,
   "metadata": {},
   "outputs": [
    {
     "data": {
      "text/plain": [
       "id                   0\n",
       "release_date         0\n",
       "movie                0\n",
       "production_budget    0\n",
       "domestic_gross       0\n",
       "worldwide_gross      0\n",
       "dtype: int64"
      ]
     },
     "execution_count": 5,
     "metadata": {},
     "output_type": "execute_result"
    }
   ],
   "source": [
    "# Cheking whether there are missing values\n",
    "movie_budgets_df.isna().sum()"
   ]
  },
  {
   "cell_type": "code",
   "execution_count": 6,
   "metadata": {},
   "outputs": [
    {
     "data": {
      "text/plain": [
       "0       False\n",
       "1       False\n",
       "2       False\n",
       "3       False\n",
       "4       False\n",
       "        ...  \n",
       "5777    False\n",
       "5778    False\n",
       "5779    False\n",
       "5780    False\n",
       "5781    False\n",
       "Length: 5782, dtype: bool"
      ]
     },
     "execution_count": 6,
     "metadata": {},
     "output_type": "execute_result"
    }
   ],
   "source": [
    "# Cheking for duplicates\n",
    "movie_budgets_df.duplicated()"
   ]
  },
  {
   "cell_type": "code",
   "execution_count": 7,
   "metadata": {},
   "outputs": [
    {
     "name": "stdout",
     "output_type": "stream",
     "text": [
      "<class 'pandas.core.frame.DataFrame'>\n",
      "RangeIndex: 5782 entries, 0 to 5781\n",
      "Data columns (total 6 columns):\n",
      " #   Column             Non-Null Count  Dtype         \n",
      "---  ------             --------------  -----         \n",
      " 0   id                 5782 non-null   int64         \n",
      " 1   release_date       5782 non-null   datetime64[ns]\n",
      " 2   movie              5782 non-null   object        \n",
      " 3   production_budget  5782 non-null   object        \n",
      " 4   domestic_gross     5782 non-null   int64         \n",
      " 5   worldwide_gross    5782 non-null   int64         \n",
      "dtypes: datetime64[ns](1), int64(3), object(2)\n",
      "memory usage: 271.2+ KB\n"
     ]
    }
   ],
   "source": [
    "# Data processing\n",
    "# Converting the release date column to a datetime format\n",
    "movie_budgets_df['release_date'] = pd.to_datetime(movie_budgets_df['release_date'])\n",
    "\n",
    "# Converting columns to numeric types\n",
    "movie_budgets_df['domestic_gross'] = pd.to_numeric(movie_budgets_df['domestic_gross'].str.replace(',', '').str.replace('$', ''))\n",
    "movie_budgets_df['worldwide_gross'] = pd.to_numeric(movie_budgets_df['worldwide_gross'].str.replace(',', '').str.replace('$', ''))\n",
    "\n",
    "# Checking the updated data types\n",
    "movie_budgets_df.info()"
   ]
  },
  {
   "cell_type": "code",
   "execution_count": 8,
   "metadata": {},
   "outputs": [
    {
     "data": {
      "text/html": [
       "<div>\n",
       "<style scoped>\n",
       "    .dataframe tbody tr th:only-of-type {\n",
       "        vertical-align: middle;\n",
       "    }\n",
       "\n",
       "    .dataframe tbody tr th {\n",
       "        vertical-align: top;\n",
       "    }\n",
       "\n",
       "    .dataframe thead th {\n",
       "        text-align: right;\n",
       "    }\n",
       "</style>\n",
       "<table border=\"1\" class=\"dataframe\">\n",
       "  <thead>\n",
       "    <tr style=\"text-align: right;\">\n",
       "      <th></th>\n",
       "      <th>release_month</th>\n",
       "      <th>domestic_gross</th>\n",
       "      <th>worldwide_gross</th>\n",
       "    </tr>\n",
       "  </thead>\n",
       "  <tbody>\n",
       "    <tr>\n",
       "      <th>0</th>\n",
       "      <td>1</td>\n",
       "      <td>2.394962e+07</td>\n",
       "      <td>4.656382e+07</td>\n",
       "    </tr>\n",
       "    <tr>\n",
       "      <th>1</th>\n",
       "      <td>2</td>\n",
       "      <td>3.541465e+07</td>\n",
       "      <td>7.154453e+07</td>\n",
       "    </tr>\n",
       "    <tr>\n",
       "      <th>2</th>\n",
       "      <td>3</td>\n",
       "      <td>3.857299e+07</td>\n",
       "      <td>8.063337e+07</td>\n",
       "    </tr>\n",
       "    <tr>\n",
       "      <th>3</th>\n",
       "      <td>4</td>\n",
       "      <td>2.732840e+07</td>\n",
       "      <td>5.992026e+07</td>\n",
       "    </tr>\n",
       "    <tr>\n",
       "      <th>4</th>\n",
       "      <td>5</td>\n",
       "      <td>6.669795e+07</td>\n",
       "      <td>1.622680e+08</td>\n",
       "    </tr>\n",
       "    <tr>\n",
       "      <th>5</th>\n",
       "      <td>6</td>\n",
       "      <td>6.582791e+07</td>\n",
       "      <td>1.425230e+08</td>\n",
       "    </tr>\n",
       "    <tr>\n",
       "      <th>6</th>\n",
       "      <td>7</td>\n",
       "      <td>6.072804e+07</td>\n",
       "      <td>1.409636e+08</td>\n",
       "    </tr>\n",
       "    <tr>\n",
       "      <th>7</th>\n",
       "      <td>8</td>\n",
       "      <td>3.216821e+07</td>\n",
       "      <td>6.097841e+07</td>\n",
       "    </tr>\n",
       "    <tr>\n",
       "      <th>8</th>\n",
       "      <td>9</td>\n",
       "      <td>2.314989e+07</td>\n",
       "      <td>4.669369e+07</td>\n",
       "    </tr>\n",
       "    <tr>\n",
       "      <th>9</th>\n",
       "      <td>10</td>\n",
       "      <td>2.442350e+07</td>\n",
       "      <td>4.946456e+07</td>\n",
       "    </tr>\n",
       "    <tr>\n",
       "      <th>10</th>\n",
       "      <td>11</td>\n",
       "      <td>5.818117e+07</td>\n",
       "      <td>1.357416e+08</td>\n",
       "    </tr>\n",
       "    <tr>\n",
       "      <th>11</th>\n",
       "      <td>12</td>\n",
       "      <td>4.610082e+07</td>\n",
       "      <td>1.016932e+08</td>\n",
       "    </tr>\n",
       "  </tbody>\n",
       "</table>\n",
       "</div>"
      ],
      "text/plain": [
       "    release_month  domestic_gross  worldwide_gross\n",
       "0               1    2.394962e+07     4.656382e+07\n",
       "1               2    3.541465e+07     7.154453e+07\n",
       "2               3    3.857299e+07     8.063337e+07\n",
       "3               4    2.732840e+07     5.992026e+07\n",
       "4               5    6.669795e+07     1.622680e+08\n",
       "5               6    6.582791e+07     1.425230e+08\n",
       "6               7    6.072804e+07     1.409636e+08\n",
       "7               8    3.216821e+07     6.097841e+07\n",
       "8               9    2.314989e+07     4.669369e+07\n",
       "9              10    2.442350e+07     4.946456e+07\n",
       "10             11    5.818117e+07     1.357416e+08\n",
       "11             12    4.610082e+07     1.016932e+08"
      ]
     },
     "execution_count": 8,
     "metadata": {},
     "output_type": "execute_result"
    }
   ],
   "source": [
    "# Extracting the release month from the release date\n",
    "movie_budgets_df['release_month'] = movie_budgets_df['release_date'].dt.month\n",
    "\n",
    "# Group the data by release month and calculate the mean domestic gross and worldwide gross\n",
    "grouped_data = movie_budgets_df.groupby('release_month').agg({\n",
    "    'domestic_gross': 'mean',\n",
    "    'worldwide_gross': 'mean'\n",
    "}).reset_index()\n",
    "grouped_data"
   ]
  },
  {
   "cell_type": "code",
   "execution_count": 9,
   "metadata": {},
   "outputs": [
    {
     "data": {
      "image/png": "[encoded data removed]",
      "text/plain": [
       "<Figure size 720x432 with 1 Axes>"
      ]
     },
     "metadata": {
      "needs_background": "light"
     },
     "output_type": "display_data"
    }
   ],
   "source": [
    "# Plotting the results\n",
    "plt.figure(figsize=(10, 6))\n",
    "sns.lineplot(x='release_month', y='domestic_gross', data=grouped_data, label='Domestic Gross')\n",
    "sns.lineplot(x='release_month', y='worldwide_gross', data=grouped_data, label='Worldwide Gross')\n",
    "plt.xlabel('Release Month')\n",
    "plt.ylabel('Gross (in billions)')\n",
    "plt.title('Average Domestic and Worldwide Gross by Release Month')\n",
    "plt.xticks(range(1, 13), ['Jan', 'Feb', 'Mar', 'Apr', 'May', 'Jun', 'Jul', 'Aug', 'Sep', 'Oct', 'Nov', 'Dec'])\n",
    "plt.legend()\n",
    "plt.show()"
   ]
  },
  {
   "cell_type": "markdown",
   "metadata": {},
   "source": [
    "From the analysis, I have observed that the release month of a movie affects revenue. Movies released in May tend to generate the most revenue while movies released in September tend to generate the least revenue. Microsoft should take note of this and consider producing movies during the most favorable months or seasons for releasing films in order to maximize revenue production. Films  released in May tend to have higher box office success and therefore perform better financially. These are the months of the year that Microsoft's new movie studio should consider producing new movies."
   ]
  },
  {
   "cell_type": "markdown",
   "metadata": {},
   "source": [
    "## Are budget and revenue correlated?"
   ]
  },
  {
   "cell_type": "code",
   "execution_count": 10,
   "metadata": {},
   "outputs": [
    {
     "data": {
      "text/html": [
       "<div>\n",
       "<style scoped>\n",
       "    .dataframe tbody tr th:only-of-type {\n",
       "        vertical-align: middle;\n",
       "    }\n",
       "\n",
       "    .dataframe tbody tr th {\n",
       "        vertical-align: top;\n",
       "    }\n",
       "\n",
       "    .dataframe thead th {\n",
       "        text-align: right;\n",
       "    }\n",
       "</style>\n",
       "<table border=\"1\" class=\"dataframe\">\n",
       "  <thead>\n",
       "    <tr style=\"text-align: right;\">\n",
       "      <th></th>\n",
       "      <th>id</th>\n",
       "      <th>release_date</th>\n",
       "      <th>movie</th>\n",
       "      <th>production_budget</th>\n",
       "      <th>domestic_gross</th>\n",
       "      <th>worldwide_gross</th>\n",
       "    </tr>\n",
       "  </thead>\n",
       "  <tbody>\n",
       "    <tr>\n",
       "      <th>0</th>\n",
       "      <td>1</td>\n",
       "      <td>Dec 18, 2009</td>\n",
       "      <td>Avatar</td>\n",
       "      <td>$425,000,000</td>\n",
       "      <td>$760,507,625</td>\n",
       "      <td>$2,776,345,279</td>\n",
       "    </tr>\n",
       "    <tr>\n",
       "      <th>1</th>\n",
       "      <td>2</td>\n",
       "      <td>May 20, 2011</td>\n",
       "      <td>Pirates of the Caribbean: On Stranger Tides</td>\n",
       "      <td>$410,600,000</td>\n",
       "      <td>$241,063,875</td>\n",
       "      <td>$1,045,663,875</td>\n",
       "    </tr>\n",
       "    <tr>\n",
       "      <th>2</th>\n",
       "      <td>3</td>\n",
       "      <td>Jun 7, 2019</td>\n",
       "      <td>Dark Phoenix</td>\n",
       "      <td>$350,000,000</td>\n",
       "      <td>$42,762,350</td>\n",
       "      <td>$149,762,350</td>\n",
       "    </tr>\n",
       "    <tr>\n",
       "      <th>3</th>\n",
       "      <td>4</td>\n",
       "      <td>May 1, 2015</td>\n",
       "      <td>Avengers: Age of Ultron</td>\n",
       "      <td>$330,600,000</td>\n",
       "      <td>$459,005,868</td>\n",
       "      <td>$1,403,013,963</td>\n",
       "    </tr>\n",
       "    <tr>\n",
       "      <th>4</th>\n",
       "      <td>5</td>\n",
       "      <td>Dec 15, 2017</td>\n",
       "      <td>Star Wars Ep. VIII: The Last Jedi</td>\n",
       "      <td>$317,000,000</td>\n",
       "      <td>$620,181,382</td>\n",
       "      <td>$1,316,721,747</td>\n",
       "    </tr>\n",
       "  </tbody>\n",
       "</table>\n",
       "</div>"
      ],
      "text/plain": [
       "   id  release_date                                        movie  \\\n",
       "0   1  Dec 18, 2009                                       Avatar   \n",
       "1   2  May 20, 2011  Pirates of the Caribbean: On Stranger Tides   \n",
       "2   3   Jun 7, 2019                                 Dark Phoenix   \n",
       "3   4   May 1, 2015                      Avengers: Age of Ultron   \n",
       "4   5  Dec 15, 2017            Star Wars Ep. VIII: The Last Jedi   \n",
       "\n",
       "  production_budget domestic_gross worldwide_gross  \n",
       "0      $425,000,000   $760,507,625  $2,776,345,279  \n",
       "1      $410,600,000   $241,063,875  $1,045,663,875  \n",
       "2      $350,000,000    $42,762,350    $149,762,350  \n",
       "3      $330,600,000   $459,005,868  $1,403,013,963  \n",
       "4      $317,000,000   $620,181,382  $1,316,721,747  "
      ]
     },
     "execution_count": 10,
     "metadata": {},
     "output_type": "execute_result"
    }
   ],
   "source": [
    "# Reading the movie budget data into a DataFrame\n",
    "movie_budgets_df = pd.read_csv('zippedData/tn.movie_budgets.csv.gz')\n",
    "\n",
    "# Exploring the structure and content of the DataFrame:\n",
    "movie_budgets_df.head()"
   ]
  },
  {
   "cell_type": "code",
   "execution_count": 11,
   "metadata": {},
   "outputs": [
    {
     "name": "stdout",
     "output_type": "stream",
     "text": [
      "<class 'pandas.core.frame.DataFrame'>\n",
      "RangeIndex: 5782 entries, 0 to 5781\n",
      "Data columns (total 6 columns):\n",
      " #   Column             Non-Null Count  Dtype \n",
      "---  ------             --------------  ----- \n",
      " 0   id                 5782 non-null   int64 \n",
      " 1   release_date       5782 non-null   object\n",
      " 2   movie              5782 non-null   object\n",
      " 3   production_budget  5782 non-null   object\n",
      " 4   domestic_gross     5782 non-null   object\n",
      " 5   worldwide_gross    5782 non-null   object\n",
      "dtypes: int64(1), object(5)\n",
      "memory usage: 271.2+ KB\n"
     ]
    }
   ],
   "source": [
    "# Looking at the info printout\n",
    "movie_budgets_df.info()"
   ]
  },
  {
   "cell_type": "code",
   "execution_count": 12,
   "metadata": {},
   "outputs": [
    {
     "name": "stdout",
     "output_type": "stream",
     "text": [
      "<class 'pandas.core.frame.DataFrame'>\n",
      "RangeIndex: 5782 entries, 0 to 5781\n",
      "Data columns (total 6 columns):\n",
      " #   Column             Non-Null Count  Dtype \n",
      "---  ------             --------------  ----- \n",
      " 0   id                 5782 non-null   int64 \n",
      " 1   release_date       5782 non-null   object\n",
      " 2   movie              5782 non-null   object\n",
      " 3   production_budget  5782 non-null   int64 \n",
      " 4   domestic_gross     5782 non-null   int64 \n",
      " 5   worldwide_gross    5782 non-null   int64 \n",
      "dtypes: int64(4), object(2)\n",
      "memory usage: 271.2+ KB\n"
     ]
    }
   ],
   "source": [
    "# Data processing\n",
    "# Convert the gross columns to numeric values (removing commas and dollar signs)\n",
    "movie_budgets_df['domestic_gross'] = pd.to_numeric(movie_budgets_df['domestic_gross'].str.replace(',', '').str.replace('$', ''))\n",
    "movie_budgets_df['worldwide_gross'] = pd.to_numeric(movie_budgets_df['worldwide_gross'].str.replace(',', '').str.replace('$', ''))\n",
    "\n",
    "# Convert the production budget column to numeric values (removing commas and dollar signs)\n",
    "movie_budgets_df['production_budget'] = pd.to_numeric(movie_budgets_df['production_budget'].str.replace(',', '').str.replace('$', ''))\n",
    "\n",
    "# Checking the updated data types\n",
    "movie_budgets_df.info()"
   ]
  },
  {
   "cell_type": "code",
   "execution_count": 13,
   "metadata": {},
   "outputs": [
    {
     "name": "stdout",
     "output_type": "stream",
     "text": [
      "The correlation coefficient between production budget and domestic revenue is: 0.6856818396752732\n",
      "The correlation coefficient between production budget and worldwide revenue is: 0.7483059765694758\n"
     ]
    }
   ],
   "source": [
    "# Calculate the correlation coefficients\n",
    "domestic_correlation = movie_budgets_df['production_budget'].corr(movie_budgets_df['domestic_gross'])\n",
    "worldwide_correlation = movie_budgets_df['production_budget'].corr(movie_budgets_df['worldwide_gross'])\n",
    "\n",
    "# Print the correlation coefficient\n",
    "print(f\"The correlation coefficient between production budget and domestic revenue is: {domestic_correlation}\")\n",
    "print(f\"The correlation coefficient between production budget and worldwide revenue is: {worldwide_correlation}\")"
   ]
  },
  {
   "cell_type": "code",
   "execution_count": 14,
   "metadata": {},
   "outputs": [
    {
     "data": {
      "image/png": "[encoded data removed]",
      "text/plain": [
       "<Figure size 720x432 with 1 Axes>"
      ]
     },
     "metadata": {
      "needs_background": "light"
     },
     "output_type": "display_data"
    }
   ],
   "source": [
    "# Plotting the scatter plot to visualize the correlation\n",
    "plt.figure(figsize=(10, 6))\n",
    "sns.scatterplot(x='production_budget', y='domestic_gross', data=movie_budgets_df, label='Domestic Gross')\n",
    "sns.scatterplot(x='production_budget', y='worldwide_gross', data=movie_budgets_df, label='Worldwide Gross')\n",
    "plt.xlabel('Production Budget (in millions)')\n",
    "plt.ylabel('Gross (in billions)')\n",
    "plt.title('Production Budget vs. Domestic and Worldwide Gross')\n",
    "plt.legend()\n",
    "plt.show()"
   ]
  },
  {
   "cell_type": "markdown",
   "metadata": {},
   "source": [
    "The correlation coefficient between budget and worldwide gross is 0.748, indicating a moderate to strong positive correlation between production budget and revenue. This means that as the budget of a movie increases, there is a tendency for its revenue to increase as well. In other words, higher-budget movies tend to generate higher revenue on average. However, it's important to note that correlation does not imply causation, and there may still be significant variability in revenue that is not accounted for by the budget alone. While there is a positive relationship between budget and revenue, other factors may also influence revenue generation, such as marketing, genre, star power, and release timing."
   ]
  },
  {
   "cell_type": "markdown",
   "metadata": {},
   "source": [
    "## Movies dataset 2"
   ]
  },
  {
   "cell_type": "markdown",
   "metadata": {},
   "source": [
    "# Which movie genres are crowd favourites?"
   ]
  },
  {
   "cell_type": "code",
   "execution_count": 15,
   "metadata": {},
   "outputs": [
    {
     "data": {
      "text/html": [
       "<div>\n",
       "<style scoped>\n",
       "    .dataframe tbody tr th:only-of-type {\n",
       "        vertical-align: middle;\n",
       "    }\n",
       "\n",
       "    .dataframe tbody tr th {\n",
       "        vertical-align: top;\n",
       "    }\n",
       "\n",
       "    .dataframe thead th {\n",
       "        text-align: right;\n",
       "    }\n",
       "</style>\n",
       "<table border=\"1\" class=\"dataframe\">\n",
       "  <thead>\n",
       "    <tr style=\"text-align: right;\">\n",
       "      <th></th>\n",
       "      <th>genre_ids</th>\n",
       "      <th>id</th>\n",
       "      <th>original_language</th>\n",
       "      <th>original_title</th>\n",
       "      <th>popularity</th>\n",
       "      <th>release_date</th>\n",
       "      <th>title</th>\n",
       "      <th>vote_average</th>\n",
       "      <th>vote_count</th>\n",
       "    </tr>\n",
       "  </thead>\n",
       "  <tbody>\n",
       "    <tr>\n",
       "      <th>0</th>\n",
       "      <td>[12, 14, 10751]</td>\n",
       "      <td>12444</td>\n",
       "      <td>en</td>\n",
       "      <td>Harry Potter and the Deathly Hallows: Part 1</td>\n",
       "      <td>33.533</td>\n",
       "      <td>2010-11-19</td>\n",
       "      <td>Harry Potter and the Deathly Hallows: Part 1</td>\n",
       "      <td>7.7</td>\n",
       "      <td>10788</td>\n",
       "    </tr>\n",
       "    <tr>\n",
       "      <th>1</th>\n",
       "      <td>[14, 12, 16, 10751]</td>\n",
       "      <td>10191</td>\n",
       "      <td>en</td>\n",
       "      <td>How to Train Your Dragon</td>\n",
       "      <td>28.734</td>\n",
       "      <td>2010-03-26</td>\n",
       "      <td>How to Train Your Dragon</td>\n",
       "      <td>7.7</td>\n",
       "      <td>7610</td>\n",
       "    </tr>\n",
       "    <tr>\n",
       "      <th>2</th>\n",
       "      <td>[12, 28, 878]</td>\n",
       "      <td>10138</td>\n",
       "      <td>en</td>\n",
       "      <td>Iron Man 2</td>\n",
       "      <td>28.515</td>\n",
       "      <td>2010-05-07</td>\n",
       "      <td>Iron Man 2</td>\n",
       "      <td>6.8</td>\n",
       "      <td>12368</td>\n",
       "    </tr>\n",
       "    <tr>\n",
       "      <th>3</th>\n",
       "      <td>[16, 35, 10751]</td>\n",
       "      <td>862</td>\n",
       "      <td>en</td>\n",
       "      <td>Toy Story</td>\n",
       "      <td>28.005</td>\n",
       "      <td>1995-11-22</td>\n",
       "      <td>Toy Story</td>\n",
       "      <td>7.9</td>\n",
       "      <td>10174</td>\n",
       "    </tr>\n",
       "    <tr>\n",
       "      <th>4</th>\n",
       "      <td>[28, 878, 12]</td>\n",
       "      <td>27205</td>\n",
       "      <td>en</td>\n",
       "      <td>Inception</td>\n",
       "      <td>27.920</td>\n",
       "      <td>2010-07-16</td>\n",
       "      <td>Inception</td>\n",
       "      <td>8.3</td>\n",
       "      <td>22186</td>\n",
       "    </tr>\n",
       "    <tr>\n",
       "      <th>...</th>\n",
       "      <td>...</td>\n",
       "      <td>...</td>\n",
       "      <td>...</td>\n",
       "      <td>...</td>\n",
       "      <td>...</td>\n",
       "      <td>...</td>\n",
       "      <td>...</td>\n",
       "      <td>...</td>\n",
       "      <td>...</td>\n",
       "    </tr>\n",
       "    <tr>\n",
       "      <th>26512</th>\n",
       "      <td>[27, 18]</td>\n",
       "      <td>488143</td>\n",
       "      <td>en</td>\n",
       "      <td>Laboratory Conditions</td>\n",
       "      <td>0.600</td>\n",
       "      <td>2018-10-13</td>\n",
       "      <td>Laboratory Conditions</td>\n",
       "      <td>0.0</td>\n",
       "      <td>1</td>\n",
       "    </tr>\n",
       "    <tr>\n",
       "      <th>26513</th>\n",
       "      <td>[18, 53]</td>\n",
       "      <td>485975</td>\n",
       "      <td>en</td>\n",
       "      <td>_EXHIBIT_84xxx_</td>\n",
       "      <td>0.600</td>\n",
       "      <td>2018-05-01</td>\n",
       "      <td>_EXHIBIT_84xxx_</td>\n",
       "      <td>0.0</td>\n",
       "      <td>1</td>\n",
       "    </tr>\n",
       "    <tr>\n",
       "      <th>26514</th>\n",
       "      <td>[14, 28, 12]</td>\n",
       "      <td>381231</td>\n",
       "      <td>en</td>\n",
       "      <td>The Last One</td>\n",
       "      <td>0.600</td>\n",
       "      <td>2018-10-01</td>\n",
       "      <td>The Last One</td>\n",
       "      <td>0.0</td>\n",
       "      <td>1</td>\n",
       "    </tr>\n",
       "    <tr>\n",
       "      <th>26515</th>\n",
       "      <td>[10751, 12, 28]</td>\n",
       "      <td>366854</td>\n",
       "      <td>en</td>\n",
       "      <td>Trailer Made</td>\n",
       "      <td>0.600</td>\n",
       "      <td>2018-06-22</td>\n",
       "      <td>Trailer Made</td>\n",
       "      <td>0.0</td>\n",
       "      <td>1</td>\n",
       "    </tr>\n",
       "    <tr>\n",
       "      <th>26516</th>\n",
       "      <td>[53, 27]</td>\n",
       "      <td>309885</td>\n",
       "      <td>en</td>\n",
       "      <td>The Church</td>\n",
       "      <td>0.600</td>\n",
       "      <td>2018-10-05</td>\n",
       "      <td>The Church</td>\n",
       "      <td>0.0</td>\n",
       "      <td>1</td>\n",
       "    </tr>\n",
       "  </tbody>\n",
       "</table>\n",
       "<p>26517 rows × 9 columns</p>\n",
       "</div>"
      ],
      "text/plain": [
       "                 genre_ids      id original_language  \\\n",
       "0          [12, 14, 10751]   12444                en   \n",
       "1      [14, 12, 16, 10751]   10191                en   \n",
       "2            [12, 28, 878]   10138                en   \n",
       "3          [16, 35, 10751]     862                en   \n",
       "4            [28, 878, 12]   27205                en   \n",
       "...                    ...     ...               ...   \n",
       "26512             [27, 18]  488143                en   \n",
       "26513             [18, 53]  485975                en   \n",
       "26514         [14, 28, 12]  381231                en   \n",
       "26515      [10751, 12, 28]  366854                en   \n",
       "26516             [53, 27]  309885                en   \n",
       "\n",
       "                                     original_title  popularity release_date  \\\n",
       "0      Harry Potter and the Deathly Hallows: Part 1      33.533   2010-11-19   \n",
       "1                          How to Train Your Dragon      28.734   2010-03-26   \n",
       "2                                        Iron Man 2      28.515   2010-05-07   \n",
       "3                                         Toy Story      28.005   1995-11-22   \n",
       "4                                         Inception      27.920   2010-07-16   \n",
       "...                                             ...         ...          ...   \n",
       "26512                         Laboratory Conditions       0.600   2018-10-13   \n",
       "26513                               _EXHIBIT_84xxx_       0.600   2018-05-01   \n",
       "26514                                  The Last One       0.600   2018-10-01   \n",
       "26515                                  Trailer Made       0.600   2018-06-22   \n",
       "26516                                    The Church       0.600   2018-10-05   \n",
       "\n",
       "                                              title  vote_average  vote_count  \n",
       "0      Harry Potter and the Deathly Hallows: Part 1           7.7       10788  \n",
       "1                          How to Train Your Dragon           7.7        7610  \n",
       "2                                        Iron Man 2           6.8       12368  \n",
       "3                                         Toy Story           7.9       10174  \n",
       "4                                         Inception           8.3       22186  \n",
       "...                                             ...           ...         ...  \n",
       "26512                         Laboratory Conditions           0.0           1  \n",
       "26513                               _EXHIBIT_84xxx_           0.0           1  \n",
       "26514                                  The Last One           0.0           1  \n",
       "26515                                  Trailer Made           0.0           1  \n",
       "26516                                    The Church           0.0           1  \n",
       "\n",
       "[26517 rows x 9 columns]"
      ]
     },
     "execution_count": 15,
     "metadata": {},
     "output_type": "execute_result"
    }
   ],
   "source": [
    "# Reading the dataset\n",
    "tmdb_movies_df = pd.read_csv('zippedData/tmdb.movies.csv.gz', index_col=0)\n",
    "tmdb_movies_df"
   ]
  },
  {
   "cell_type": "code",
   "execution_count": 16,
   "metadata": {},
   "outputs": [
    {
     "data": {
      "text/plain": [
       "(26517, 9)"
      ]
     },
     "execution_count": 16,
     "metadata": {},
     "output_type": "execute_result"
    }
   ],
   "source": [
    "# Inspecting the shape\n",
    "tmdb_movies_df.shape"
   ]
  },
  {
   "cell_type": "code",
   "execution_count": 17,
   "metadata": {},
   "outputs": [
    {
     "name": "stdout",
     "output_type": "stream",
     "text": [
      "<class 'pandas.core.frame.DataFrame'>\n",
      "Int64Index: 26517 entries, 0 to 26516\n",
      "Data columns (total 9 columns):\n",
      " #   Column             Non-Null Count  Dtype  \n",
      "---  ------             --------------  -----  \n",
      " 0   genre_ids          26517 non-null  object \n",
      " 1   id                 26517 non-null  int64  \n",
      " 2   original_language  26517 non-null  object \n",
      " 3   original_title     26517 non-null  object \n",
      " 4   popularity         26517 non-null  float64\n",
      " 5   release_date       26517 non-null  object \n",
      " 6   title              26517 non-null  object \n",
      " 7   vote_average       26517 non-null  float64\n",
      " 8   vote_count         26517 non-null  int64  \n",
      "dtypes: float64(2), int64(2), object(5)\n",
      "memory usage: 2.0+ MB\n"
     ]
    }
   ],
   "source": [
    "# # Looking at the info printout\n",
    "tmdb_movies_df.info()"
   ]
  },
  {
   "cell_type": "code",
   "execution_count": 18,
   "metadata": {},
   "outputs": [
    {
     "data": {
      "text/plain": [
       "genre_ids            0\n",
       "id                   0\n",
       "original_language    0\n",
       "original_title       0\n",
       "popularity           0\n",
       "release_date         0\n",
       "title                0\n",
       "vote_average         0\n",
       "vote_count           0\n",
       "dtype: int64"
      ]
     },
     "execution_count": 18,
     "metadata": {},
     "output_type": "execute_result"
    }
   ],
   "source": [
    "# Cheking whether there are missing values\n",
    "tmdb_movies_df.isna().sum()"
   ]
  },
  {
   "cell_type": "code",
   "execution_count": 19,
   "metadata": {},
   "outputs": [
    {
     "data": {
      "text/plain": [
       "0        False\n",
       "1        False\n",
       "2        False\n",
       "3        False\n",
       "4        False\n",
       "         ...  \n",
       "26512    False\n",
       "26513    False\n",
       "26514    False\n",
       "26515    False\n",
       "26516    False\n",
       "Length: 26517, dtype: bool"
      ]
     },
     "execution_count": 19,
     "metadata": {},
     "output_type": "execute_result"
    }
   ],
   "source": [
    "# Cheking for duplicates\n",
    "tmdb_movies_df.duplicated()"
   ]
  },
  {
   "cell_type": "code",
   "execution_count": 20,
   "metadata": {},
   "outputs": [
    {
     "data": {
      "text/plain": [
       "genre_ids\n",
       "[28, 12, 16, 878, 35]              60.534\n",
       "[10751, 16, 35, 14, 12]            48.057\n",
       "[28, 12, 878, 35]                  44.729\n",
       "[28, 9648, 878, 53]                36.955\n",
       "[12, 10751, 16, 28, 35]            36.920\n",
       "                                    ...  \n",
       "[16, 10749, 99]                     0.600\n",
       "[9648, 28, 53]                      0.600\n",
       "[28, 12, 35, 80, 18, 10402, 37]     0.600\n",
       "[28, 12, 35, 10749]                 0.600\n",
       "[878, 80]                           0.600\n",
       "Name: popularity, Length: 2477, dtype: float64"
      ]
     },
     "execution_count": 20,
     "metadata": {},
     "output_type": "execute_result"
    }
   ],
   "source": [
    "# Data processing\n",
    "# Grouping the data by genre and calculating the mean popularity for each genre\n",
    "genre_popularity = tmdb_movies_df.groupby('genre_ids')['popularity'].mean()\n",
    "\n",
    "# Sorting the genres based on popularity in descending order\n",
    "sorted_genres = genre_popularity.sort_values(ascending=False)\n",
    "sorted_genres"
   ]
  },
  {
   "cell_type": "code",
   "execution_count": 21,
   "metadata": {},
   "outputs": [
    {
     "data": {
      "image/png": "[encoded data removed]",
      "text/plain": [
       "<Figure size 864x432 with 1 Axes>"
      ]
     },
     "metadata": {
      "needs_background": "light"
     },
     "output_type": "display_data"
    }
   ],
   "source": [
    "# Selecting the top 10 most popular genres\n",
    "top_genres = sorted_genres.head(10)\n",
    "\n",
    "# Filtering the original dataset to include only the top genres\n",
    "top_genres_df = tmdb_movies_df[tmdb_movies_df['genre_ids'].isin(top_genres.index)]\n",
    "\n",
    "# Plotting the results in a box plot\n",
    "plt.figure(figsize=(12, 6))\n",
    "sns.boxplot(x='genre_ids', y='popularity', data=top_genres_df)\n",
    "plt.xlabel('Genre')\n",
    "plt.ylabel('Popularity')\n",
    "plt.title('Box Plot of Popularity for Top 10 Movie Genres')\n",
    "plt.xticks(rotation=90)\n",
    "plt.show()"
   ]
  },
  {
   "cell_type": "markdown",
   "metadata": {},
   "source": [
    "The most popular movie genre is the movie genre_id [28,12,35,14]. Microsoft can create movies from the most successful genres since these genres have been consistently popular over recent years. These genres have a high potential for success therefore leading to high box office revenue."
   ]
  },
  {
   "cell_type": "markdown",
   "metadata": {},
   "source": [
    "# Does production month affect popularity of a genre?"
   ]
  },
  {
   "cell_type": "code",
   "execution_count": 22,
   "metadata": {},
   "outputs": [
    {
     "data": {
      "text/html": [
       "<div>\n",
       "<style scoped>\n",
       "    .dataframe tbody tr th:only-of-type {\n",
       "        vertical-align: middle;\n",
       "    }\n",
       "\n",
       "    .dataframe tbody tr th {\n",
       "        vertical-align: top;\n",
       "    }\n",
       "\n",
       "    .dataframe thead th {\n",
       "        text-align: right;\n",
       "    }\n",
       "</style>\n",
       "<table border=\"1\" class=\"dataframe\">\n",
       "  <thead>\n",
       "    <tr style=\"text-align: right;\">\n",
       "      <th></th>\n",
       "      <th>Unnamed: 0</th>\n",
       "      <th>genre_ids</th>\n",
       "      <th>id</th>\n",
       "      <th>original_language</th>\n",
       "      <th>original_title</th>\n",
       "      <th>popularity</th>\n",
       "      <th>release_date</th>\n",
       "      <th>title</th>\n",
       "      <th>vote_average</th>\n",
       "      <th>vote_count</th>\n",
       "    </tr>\n",
       "  </thead>\n",
       "  <tbody>\n",
       "    <tr>\n",
       "      <th>0</th>\n",
       "      <td>0</td>\n",
       "      <td>[12, 14, 10751]</td>\n",
       "      <td>12444</td>\n",
       "      <td>en</td>\n",
       "      <td>Harry Potter and the Deathly Hallows: Part 1</td>\n",
       "      <td>33.533</td>\n",
       "      <td>2010-11-19</td>\n",
       "      <td>Harry Potter and the Deathly Hallows: Part 1</td>\n",
       "      <td>7.7</td>\n",
       "      <td>10788</td>\n",
       "    </tr>\n",
       "    <tr>\n",
       "      <th>1</th>\n",
       "      <td>1</td>\n",
       "      <td>[14, 12, 16, 10751]</td>\n",
       "      <td>10191</td>\n",
       "      <td>en</td>\n",
       "      <td>How to Train Your Dragon</td>\n",
       "      <td>28.734</td>\n",
       "      <td>2010-03-26</td>\n",
       "      <td>How to Train Your Dragon</td>\n",
       "      <td>7.7</td>\n",
       "      <td>7610</td>\n",
       "    </tr>\n",
       "    <tr>\n",
       "      <th>2</th>\n",
       "      <td>2</td>\n",
       "      <td>[12, 28, 878]</td>\n",
       "      <td>10138</td>\n",
       "      <td>en</td>\n",
       "      <td>Iron Man 2</td>\n",
       "      <td>28.515</td>\n",
       "      <td>2010-05-07</td>\n",
       "      <td>Iron Man 2</td>\n",
       "      <td>6.8</td>\n",
       "      <td>12368</td>\n",
       "    </tr>\n",
       "    <tr>\n",
       "      <th>3</th>\n",
       "      <td>3</td>\n",
       "      <td>[16, 35, 10751]</td>\n",
       "      <td>862</td>\n",
       "      <td>en</td>\n",
       "      <td>Toy Story</td>\n",
       "      <td>28.005</td>\n",
       "      <td>1995-11-22</td>\n",
       "      <td>Toy Story</td>\n",
       "      <td>7.9</td>\n",
       "      <td>10174</td>\n",
       "    </tr>\n",
       "    <tr>\n",
       "      <th>4</th>\n",
       "      <td>4</td>\n",
       "      <td>[28, 878, 12]</td>\n",
       "      <td>27205</td>\n",
       "      <td>en</td>\n",
       "      <td>Inception</td>\n",
       "      <td>27.920</td>\n",
       "      <td>2010-07-16</td>\n",
       "      <td>Inception</td>\n",
       "      <td>8.3</td>\n",
       "      <td>22186</td>\n",
       "    </tr>\n",
       "  </tbody>\n",
       "</table>\n",
       "</div>"
      ],
      "text/plain": [
       "   Unnamed: 0            genre_ids     id original_language  \\\n",
       "0           0      [12, 14, 10751]  12444                en   \n",
       "1           1  [14, 12, 16, 10751]  10191                en   \n",
       "2           2        [12, 28, 878]  10138                en   \n",
       "3           3      [16, 35, 10751]    862                en   \n",
       "4           4        [28, 878, 12]  27205                en   \n",
       "\n",
       "                                 original_title  popularity release_date  \\\n",
       "0  Harry Potter and the Deathly Hallows: Part 1      33.533   2010-11-19   \n",
       "1                      How to Train Your Dragon      28.734   2010-03-26   \n",
       "2                                    Iron Man 2      28.515   2010-05-07   \n",
       "3                                     Toy Story      28.005   1995-11-22   \n",
       "4                                     Inception      27.920   2010-07-16   \n",
       "\n",
       "                                          title  vote_average  vote_count  \n",
       "0  Harry Potter and the Deathly Hallows: Part 1           7.7       10788  \n",
       "1                      How to Train Your Dragon           7.7        7610  \n",
       "2                                    Iron Man 2           6.8       12368  \n",
       "3                                     Toy Story           7.9       10174  \n",
       "4                                     Inception           8.3       22186  "
      ]
     },
     "execution_count": 22,
     "metadata": {},
     "output_type": "execute_result"
    }
   ],
   "source": [
    "# Loading the dataset\n",
    "tmdb_movies_df = pd.read_csv('zippedData/tmdb.movies.csv.gz')\n",
    "\n",
    "# Exploring the structure and content of the DataFrame:\n",
    "tmdb_movies_df.head()"
   ]
  },
  {
   "cell_type": "code",
   "execution_count": 23,
   "metadata": {},
   "outputs": [
    {
     "name": "stdout",
     "output_type": "stream",
     "text": [
      "<class 'pandas.core.frame.DataFrame'>\n",
      "RangeIndex: 26517 entries, 0 to 26516\n",
      "Data columns (total 10 columns):\n",
      " #   Column             Non-Null Count  Dtype  \n",
      "---  ------             --------------  -----  \n",
      " 0   Unnamed: 0         26517 non-null  int64  \n",
      " 1   genre_ids          26517 non-null  object \n",
      " 2   id                 26517 non-null  int64  \n",
      " 3   original_language  26517 non-null  object \n",
      " 4   original_title     26517 non-null  object \n",
      " 5   popularity         26517 non-null  float64\n",
      " 6   release_date       26517 non-null  object \n",
      " 7   title              26517 non-null  object \n",
      " 8   vote_average       26517 non-null  float64\n",
      " 9   vote_count         26517 non-null  int64  \n",
      "dtypes: float64(2), int64(3), object(5)\n",
      "memory usage: 2.0+ MB\n"
     ]
    }
   ],
   "source": [
    "# # Looking at the info printout\n",
    "tmdb_movies_df.info()"
   ]
  },
  {
   "cell_type": "code",
   "execution_count": 24,
   "metadata": {},
   "outputs": [
    {
     "name": "stdout",
     "output_type": "stream",
     "text": [
      "<class 'pandas.core.frame.DataFrame'>\n",
      "RangeIndex: 26517 entries, 0 to 26516\n",
      "Data columns (total 10 columns):\n",
      " #   Column             Non-Null Count  Dtype         \n",
      "---  ------             --------------  -----         \n",
      " 0   Unnamed: 0         26517 non-null  int64         \n",
      " 1   genre_ids          26517 non-null  object        \n",
      " 2   id                 26517 non-null  int64         \n",
      " 3   original_language  26517 non-null  object        \n",
      " 4   original_title     26517 non-null  object        \n",
      " 5   popularity         26517 non-null  float64       \n",
      " 6   release_date       26517 non-null  datetime64[ns]\n",
      " 7   title              26517 non-null  object        \n",
      " 8   vote_average       26517 non-null  float64       \n",
      " 9   vote_count         26517 non-null  int64         \n",
      "dtypes: datetime64[ns](1), float64(2), int64(3), object(4)\n",
      "memory usage: 2.0+ MB\n"
     ]
    }
   ],
   "source": [
    "# Data processing\n",
    "# Convert the release_date column to a datetime format\n",
    "tmdb_movies_df['release_date'] = pd.to_datetime(tmdb_movies_df['release_date'])\n",
    "\n",
    "\n",
    "# Checking the updated data types\n",
    "tmdb_movies_df.info()"
   ]
  },
  {
   "cell_type": "code",
   "execution_count": 25,
   "metadata": {},
   "outputs": [
    {
     "data": {
      "text/html": [
       "<div>\n",
       "<style scoped>\n",
       "    .dataframe tbody tr th:only-of-type {\n",
       "        vertical-align: middle;\n",
       "    }\n",
       "\n",
       "    .dataframe tbody tr th {\n",
       "        vertical-align: top;\n",
       "    }\n",
       "\n",
       "    .dataframe thead th {\n",
       "        text-align: right;\n",
       "    }\n",
       "</style>\n",
       "<table border=\"1\" class=\"dataframe\">\n",
       "  <thead>\n",
       "    <tr style=\"text-align: right;\">\n",
       "      <th></th>\n",
       "      <th>production_month</th>\n",
       "      <th>genre_ids</th>\n",
       "      <th>popularity</th>\n",
       "    </tr>\n",
       "  </thead>\n",
       "  <tbody>\n",
       "    <tr>\n",
       "      <th>0</th>\n",
       "      <td>1</td>\n",
       "      <td>[10402, 10751]</td>\n",
       "      <td>0.904000</td>\n",
       "    </tr>\n",
       "    <tr>\n",
       "      <th>1</th>\n",
       "      <td>1</td>\n",
       "      <td>[10402, 12, 35, 14, 878]</td>\n",
       "      <td>1.820000</td>\n",
       "    </tr>\n",
       "    <tr>\n",
       "      <th>2</th>\n",
       "      <td>1</td>\n",
       "      <td>[10402, 16, 10751, 14]</td>\n",
       "      <td>6.937000</td>\n",
       "    </tr>\n",
       "    <tr>\n",
       "      <th>3</th>\n",
       "      <td>1</td>\n",
       "      <td>[10402, 18]</td>\n",
       "      <td>0.600000</td>\n",
       "    </tr>\n",
       "    <tr>\n",
       "      <th>4</th>\n",
       "      <td>1</td>\n",
       "      <td>[10402, 27]</td>\n",
       "      <td>1.000000</td>\n",
       "    </tr>\n",
       "    <tr>\n",
       "      <th>...</th>\n",
       "      <td>...</td>\n",
       "      <td>...</td>\n",
       "      <td>...</td>\n",
       "    </tr>\n",
       "    <tr>\n",
       "      <th>5894</th>\n",
       "      <td>12</td>\n",
       "      <td>[99, 80, 36]</td>\n",
       "      <td>0.840000</td>\n",
       "    </tr>\n",
       "    <tr>\n",
       "      <th>5895</th>\n",
       "      <td>12</td>\n",
       "      <td>[99, 9648, 10749, 878]</td>\n",
       "      <td>0.801000</td>\n",
       "    </tr>\n",
       "    <tr>\n",
       "      <th>5896</th>\n",
       "      <td>12</td>\n",
       "      <td>[99, 9648]</td>\n",
       "      <td>0.600000</td>\n",
       "    </tr>\n",
       "    <tr>\n",
       "      <th>5897</th>\n",
       "      <td>12</td>\n",
       "      <td>[99]</td>\n",
       "      <td>1.190652</td>\n",
       "    </tr>\n",
       "    <tr>\n",
       "      <th>5898</th>\n",
       "      <td>12</td>\n",
       "      <td>[]</td>\n",
       "      <td>0.788520</td>\n",
       "    </tr>\n",
       "  </tbody>\n",
       "</table>\n",
       "<p>5899 rows × 3 columns</p>\n",
       "</div>"
      ],
      "text/plain": [
       "      production_month                 genre_ids  popularity\n",
       "0                    1            [10402, 10751]    0.904000\n",
       "1                    1  [10402, 12, 35, 14, 878]    1.820000\n",
       "2                    1    [10402, 16, 10751, 14]    6.937000\n",
       "3                    1               [10402, 18]    0.600000\n",
       "4                    1               [10402, 27]    1.000000\n",
       "...                ...                       ...         ...\n",
       "5894                12              [99, 80, 36]    0.840000\n",
       "5895                12    [99, 9648, 10749, 878]    0.801000\n",
       "5896                12                [99, 9648]    0.600000\n",
       "5897                12                      [99]    1.190652\n",
       "5898                12                        []    0.788520\n",
       "\n",
       "[5899 rows x 3 columns]"
      ]
     },
     "execution_count": 25,
     "metadata": {},
     "output_type": "execute_result"
    }
   ],
   "source": [
    "# Extracting the production month from the release date\n",
    "tmdb_movies_df['production_month'] = tmdb_movies_df['release_date'].dt.month\n",
    "\n",
    "# Group the data by production month and genre and calculate the mean popularity\n",
    "grouped_data = tmdb_movies_df.groupby(['production_month', 'genre_ids'])['popularity'].mean().reset_index()\n",
    "grouped_data"
   ]
  },
  {
   "cell_type": "code",
   "execution_count": 26,
   "metadata": {},
   "outputs": [
    {
     "data": {
      "text/html": [
       "<div>\n",
       "<style scoped>\n",
       "    .dataframe tbody tr th:only-of-type {\n",
       "        vertical-align: middle;\n",
       "    }\n",
       "\n",
       "    .dataframe tbody tr th {\n",
       "        vertical-align: top;\n",
       "    }\n",
       "\n",
       "    .dataframe thead th {\n",
       "        text-align: right;\n",
       "    }\n",
       "</style>\n",
       "<table border=\"1\" class=\"dataframe\">\n",
       "  <thead>\n",
       "    <tr style=\"text-align: right;\">\n",
       "      <th></th>\n",
       "      <th>production_month</th>\n",
       "      <th>genre_ids</th>\n",
       "      <th>popularity</th>\n",
       "    </tr>\n",
       "  </thead>\n",
       "  <tbody>\n",
       "    <tr>\n",
       "      <th>9</th>\n",
       "      <td>1</td>\n",
       "      <td>[10749, 10751, 16, 14]</td>\n",
       "      <td>26.701</td>\n",
       "    </tr>\n",
       "    <tr>\n",
       "      <th>882</th>\n",
       "      <td>2</td>\n",
       "      <td>[53, 28, 80]</td>\n",
       "      <td>45.253</td>\n",
       "    </tr>\n",
       "    <tr>\n",
       "      <th>1269</th>\n",
       "      <td>3</td>\n",
       "      <td>[28, 18, 878]</td>\n",
       "      <td>45.000</td>\n",
       "    </tr>\n",
       "    <tr>\n",
       "      <th>1567</th>\n",
       "      <td>4</td>\n",
       "      <td>[12, 28, 14]</td>\n",
       "      <td>80.773</td>\n",
       "    </tr>\n",
       "    <tr>\n",
       "      <th>2231</th>\n",
       "      <td>5</td>\n",
       "      <td>[28, 12, 14, 878]</td>\n",
       "      <td>41.867</td>\n",
       "    </tr>\n",
       "    <tr>\n",
       "      <th>2693</th>\n",
       "      <td>6</td>\n",
       "      <td>[28, 12, 16, 10751]</td>\n",
       "      <td>36.286</td>\n",
       "    </tr>\n",
       "    <tr>\n",
       "      <th>3147</th>\n",
       "      <td>7</td>\n",
       "      <td>[28, 12, 878, 35]</td>\n",
       "      <td>44.729</td>\n",
       "    </tr>\n",
       "    <tr>\n",
       "      <th>3628</th>\n",
       "      <td>8</td>\n",
       "      <td>[28, 878, 12]</td>\n",
       "      <td>49.606</td>\n",
       "    </tr>\n",
       "    <tr>\n",
       "      <th>4110</th>\n",
       "      <td>9</td>\n",
       "      <td>[28, 9648, 878, 53]</td>\n",
       "      <td>36.955</td>\n",
       "    </tr>\n",
       "    <tr>\n",
       "      <th>4821</th>\n",
       "      <td>10</td>\n",
       "      <td>[878, 28, 53]</td>\n",
       "      <td>48.571</td>\n",
       "    </tr>\n",
       "    <tr>\n",
       "      <th>4944</th>\n",
       "      <td>11</td>\n",
       "      <td>[10751, 16, 35, 14, 12]</td>\n",
       "      <td>48.057</td>\n",
       "    </tr>\n",
       "    <tr>\n",
       "      <th>5682</th>\n",
       "      <td>12</td>\n",
       "      <td>[28, 12, 16, 878, 35]</td>\n",
       "      <td>60.534</td>\n",
       "    </tr>\n",
       "  </tbody>\n",
       "</table>\n",
       "</div>"
      ],
      "text/plain": [
       "      production_month                genre_ids  popularity\n",
       "9                    1   [10749, 10751, 16, 14]      26.701\n",
       "882                  2             [53, 28, 80]      45.253\n",
       "1269                 3            [28, 18, 878]      45.000\n",
       "1567                 4             [12, 28, 14]      80.773\n",
       "2231                 5        [28, 12, 14, 878]      41.867\n",
       "2693                 6      [28, 12, 16, 10751]      36.286\n",
       "3147                 7        [28, 12, 878, 35]      44.729\n",
       "3628                 8            [28, 878, 12]      49.606\n",
       "4110                 9      [28, 9648, 878, 53]      36.955\n",
       "4821                10            [878, 28, 53]      48.571\n",
       "4944                11  [10751, 16, 35, 14, 12]      48.057\n",
       "5682                12    [28, 12, 16, 878, 35]      60.534"
      ]
     },
     "execution_count": 26,
     "metadata": {},
     "output_type": "execute_result"
    }
   ],
   "source": [
    "# Find the top genre for each production month based on average popularity\n",
    "top_genre_per_month = grouped_data.loc[grouped_data.groupby('production_month')['popularity'].idxmax()]\n",
    "top_genre_per_month"
   ]
  },
  {
   "cell_type": "code",
   "execution_count": 27,
   "metadata": {},
   "outputs": [
    {
     "data": {
      "image/png": "[encoded data removed]",
      "text/plain": [
       "<Figure size 864x432 with 1 Axes>"
      ]
     },
     "metadata": {
      "needs_background": "light"
     },
     "output_type": "display_data"
    }
   ],
   "source": [
    "# Plotting the results\n",
    "plt.figure(figsize=(12, 6))\n",
    "sns.barplot(x='production_month', y='popularity', hue='genre_ids', data=top_genre_per_month)\n",
    "plt.xlabel('Production Month')\n",
    "plt.ylabel('Average Popularity')\n",
    "plt.title('Top Genre by Average Popularity for Each Production Month')\n",
    "plt.xticks(range(1, 13), ['Jan', 'Feb', 'Mar', 'Apr', 'May', 'Jun', 'Jul', 'Aug', 'Sep', 'Oct', 'Nov', 'Dec'])\n",
    "plt.legend(title='Genre', bbox_to_anchor=(1, 1), loc='upper left')\n",
    "plt.tight_layout()\n",
    "plt.show()"
   ]
  },
  {
   "cell_type": "markdown",
   "metadata": {},
   "source": [
    "There is a positive correlation coefficient between popularity and release month for each specific movie genre_id. Apart from audience preferences and popularity, another thing that Microsoft should take into account when producing different genres of movies is the release date. They should consider producing movies for each genre during the most favorable months or seasons for releasing films in that genre."
   ]
  },
  {
   "cell_type": "markdown",
   "metadata": {},
   "source": [
    "# Does popularity affect vote average?"
   ]
  },
  {
   "cell_type": "code",
   "execution_count": 28,
   "metadata": {},
   "outputs": [
    {
     "data": {
      "text/html": [
       "<div>\n",
       "<style scoped>\n",
       "    .dataframe tbody tr th:only-of-type {\n",
       "        vertical-align: middle;\n",
       "    }\n",
       "\n",
       "    .dataframe tbody tr th {\n",
       "        vertical-align: top;\n",
       "    }\n",
       "\n",
       "    .dataframe thead th {\n",
       "        text-align: right;\n",
       "    }\n",
       "</style>\n",
       "<table border=\"1\" class=\"dataframe\">\n",
       "  <thead>\n",
       "    <tr style=\"text-align: right;\">\n",
       "      <th></th>\n",
       "      <th>Unnamed: 0</th>\n",
       "      <th>genre_ids</th>\n",
       "      <th>id</th>\n",
       "      <th>original_language</th>\n",
       "      <th>original_title</th>\n",
       "      <th>popularity</th>\n",
       "      <th>release_date</th>\n",
       "      <th>title</th>\n",
       "      <th>vote_average</th>\n",
       "      <th>vote_count</th>\n",
       "    </tr>\n",
       "  </thead>\n",
       "  <tbody>\n",
       "    <tr>\n",
       "      <th>0</th>\n",
       "      <td>0</td>\n",
       "      <td>[12, 14, 10751]</td>\n",
       "      <td>12444</td>\n",
       "      <td>en</td>\n",
       "      <td>Harry Potter and the Deathly Hallows: Part 1</td>\n",
       "      <td>33.533</td>\n",
       "      <td>2010-11-19</td>\n",
       "      <td>Harry Potter and the Deathly Hallows: Part 1</td>\n",
       "      <td>7.7</td>\n",
       "      <td>10788</td>\n",
       "    </tr>\n",
       "    <tr>\n",
       "      <th>1</th>\n",
       "      <td>1</td>\n",
       "      <td>[14, 12, 16, 10751]</td>\n",
       "      <td>10191</td>\n",
       "      <td>en</td>\n",
       "      <td>How to Train Your Dragon</td>\n",
       "      <td>28.734</td>\n",
       "      <td>2010-03-26</td>\n",
       "      <td>How to Train Your Dragon</td>\n",
       "      <td>7.7</td>\n",
       "      <td>7610</td>\n",
       "    </tr>\n",
       "    <tr>\n",
       "      <th>2</th>\n",
       "      <td>2</td>\n",
       "      <td>[12, 28, 878]</td>\n",
       "      <td>10138</td>\n",
       "      <td>en</td>\n",
       "      <td>Iron Man 2</td>\n",
       "      <td>28.515</td>\n",
       "      <td>2010-05-07</td>\n",
       "      <td>Iron Man 2</td>\n",
       "      <td>6.8</td>\n",
       "      <td>12368</td>\n",
       "    </tr>\n",
       "    <tr>\n",
       "      <th>3</th>\n",
       "      <td>3</td>\n",
       "      <td>[16, 35, 10751]</td>\n",
       "      <td>862</td>\n",
       "      <td>en</td>\n",
       "      <td>Toy Story</td>\n",
       "      <td>28.005</td>\n",
       "      <td>1995-11-22</td>\n",
       "      <td>Toy Story</td>\n",
       "      <td>7.9</td>\n",
       "      <td>10174</td>\n",
       "    </tr>\n",
       "    <tr>\n",
       "      <th>4</th>\n",
       "      <td>4</td>\n",
       "      <td>[28, 878, 12]</td>\n",
       "      <td>27205</td>\n",
       "      <td>en</td>\n",
       "      <td>Inception</td>\n",
       "      <td>27.920</td>\n",
       "      <td>2010-07-16</td>\n",
       "      <td>Inception</td>\n",
       "      <td>8.3</td>\n",
       "      <td>22186</td>\n",
       "    </tr>\n",
       "  </tbody>\n",
       "</table>\n",
       "</div>"
      ],
      "text/plain": [
       "   Unnamed: 0            genre_ids     id original_language  \\\n",
       "0           0      [12, 14, 10751]  12444                en   \n",
       "1           1  [14, 12, 16, 10751]  10191                en   \n",
       "2           2        [12, 28, 878]  10138                en   \n",
       "3           3      [16, 35, 10751]    862                en   \n",
       "4           4        [28, 878, 12]  27205                en   \n",
       "\n",
       "                                 original_title  popularity release_date  \\\n",
       "0  Harry Potter and the Deathly Hallows: Part 1      33.533   2010-11-19   \n",
       "1                      How to Train Your Dragon      28.734   2010-03-26   \n",
       "2                                    Iron Man 2      28.515   2010-05-07   \n",
       "3                                     Toy Story      28.005   1995-11-22   \n",
       "4                                     Inception      27.920   2010-07-16   \n",
       "\n",
       "                                          title  vote_average  vote_count  \n",
       "0  Harry Potter and the Deathly Hallows: Part 1           7.7       10788  \n",
       "1                      How to Train Your Dragon           7.7        7610  \n",
       "2                                    Iron Man 2           6.8       12368  \n",
       "3                                     Toy Story           7.9       10174  \n",
       "4                                     Inception           8.3       22186  "
      ]
     },
     "execution_count": 28,
     "metadata": {},
     "output_type": "execute_result"
    }
   ],
   "source": [
    "# Reading the dataset\n",
    "tmdb_movies_df = pd.read_csv('zippedData/tmdb.movies.csv.gz')\n",
    "\n",
    "# Exploring the structure and content of the DataFrame:\n",
    "tmdb_movies_df.head()"
   ]
  },
  {
   "cell_type": "code",
   "execution_count": 29,
   "metadata": {},
   "outputs": [
    {
     "name": "stdout",
     "output_type": "stream",
     "text": [
      "<class 'pandas.core.frame.DataFrame'>\n",
      "RangeIndex: 26517 entries, 0 to 26516\n",
      "Data columns (total 10 columns):\n",
      " #   Column             Non-Null Count  Dtype  \n",
      "---  ------             --------------  -----  \n",
      " 0   Unnamed: 0         26517 non-null  int64  \n",
      " 1   genre_ids          26517 non-null  object \n",
      " 2   id                 26517 non-null  int64  \n",
      " 3   original_language  26517 non-null  object \n",
      " 4   original_title     26517 non-null  object \n",
      " 5   popularity         26517 non-null  float64\n",
      " 6   release_date       26517 non-null  object \n",
      " 7   title              26517 non-null  object \n",
      " 8   vote_average       26517 non-null  float64\n",
      " 9   vote_count         26517 non-null  int64  \n",
      "dtypes: float64(2), int64(3), object(5)\n",
      "memory usage: 2.0+ MB\n"
     ]
    }
   ],
   "source": [
    "# Looking at the info printout\n",
    "tmdb_movies_df.info()"
   ]
  },
  {
   "cell_type": "code",
   "execution_count": 30,
   "metadata": {},
   "outputs": [
    {
     "name": "stdout",
     "output_type": "stream",
     "text": [
      "The correlation coefficient between popularity and vote_average is: 0.06527330770988117\n"
     ]
    }
   ],
   "source": [
    "# Calculate the correlation coefficient between popularity and vote_average\n",
    "correlation = tmdb_movies_df['popularity'].corr(tmdb_movies_df['vote_average'])\n",
    "\n",
    "# Print the correlation coefficient\n",
    "print(f\"The correlation coefficient between popularity and vote_average is: {correlation}\")"
   ]
  },
  {
   "cell_type": "code",
   "execution_count": 31,
   "metadata": {},
   "outputs": [
    {
     "data": {
      "image/png": "[encoded data removed]",
      "text/plain": [
       "<Figure size 432x432 with 1 Axes>"
      ]
     },
     "metadata": {
      "needs_background": "light"
     },
     "output_type": "display_data"
    }
   ],
   "source": [
    "# Plotting the results\n",
    "plt.figure(figsize=(6, 6))\n",
    "sns.scatterplot(x='popularity', y='vote_average', data=tmdb_movies_df)\n",
    "plt.xlabel('Popularity')\n",
    "plt.ylabel('Vote Average')\n",
    "plt.title(f'Correlation between Popularity and Vote Average: {correlation:.2f}')\n",
    "plt.show()"
   ]
  },
  {
   "cell_type": "markdown",
   "metadata": {},
   "source": [
    "The positive correlation between a film's popularity as measured by user votes indicates that there is a tendency for the popularity and vote_average to increase together. Films with higher popularity or better ratings tend to have higher box office success and therefore perform better financially. These are the type of films that the Microsoft's new movie studio should consider producing in order to maximize revenue production."
   ]
  },
  {
   "cell_type": "markdown",
   "metadata": {},
   "source": [
    "## Recommendations\n",
    "\n",
    "Based on the visualized data, the recommended route for Microsoft's new movie studio is to focus on producing films with high popularity or better ratings since they tend to have a high potential for success and perform better financially. They are the most successful genres in terms of box office revenue. Microsoft's new movie studio should produce movies during the most favorable months or seasons for releasing films, taking into account competition and audience preferences. The studio should also produce movies within higher budget ranges since they have shown the highest returns on investment."
   ]
  }
 ],
 "metadata": {
  "kernelspec": {
   "display_name": "Python (learn-env)",
   "language": "python",
   "name": "learn-env"
  },
  "language_info": {
   "codemirror_mode": {
    "name": "ipython",
    "version": 3
   },
   "file_extension": ".py",
   "mimetype": "text/x-python",
   "name": "python",
   "nbconvert_exporter": "python",
   "pygments_lexer": "ipython3",
   "version": "3.8.5"
  }
 },
 "nbformat": 4,
 "nbformat_minor": 4
}
